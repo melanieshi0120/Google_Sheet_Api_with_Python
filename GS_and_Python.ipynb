{
 "cells": [
  {
   "cell_type": "markdown",
   "metadata": {},
   "source": [
    "# Import libraries"
   ]
  },
  {
   "cell_type": "code",
   "execution_count": 24,
   "metadata": {},
   "outputs": [],
   "source": [
    "# import necessary libraries\n",
    "import json\n",
    "import gspread\n",
    "from oauth2client.service_account import ServiceAccountCredentials\n",
    "from pprint import pprint\n",
    "import pandas as pd\n",
    "import numpy as np\n",
    "import matplotlib as plt\n",
    "import seaborn as sns\n",
    "sns.set()"
   ]
  },
  {
   "cell_type": "markdown",
   "metadata": {},
   "source": [
    "# Obtain client_email"
   ]
  },
  {
   "cell_type": "code",
   "execution_count": 25,
   "metadata": {},
   "outputs": [],
   "source": [
    "def client_email(creds_file):\n",
    "    # read and open creds.json file\n",
    "    with open(creds_file) as f:\n",
    "        creds = json.load(f)\n",
    "    # get client_email \n",
    "    client_email=creds['client_email'] \n",
    "    return client_email"
   ]
  },
  {
   "cell_type": "markdown",
   "metadata": {},
   "source": [
    "# Create a function to extract data from a specific google sheet"
   ]
  },
  {
   "cell_type": "code",
   "execution_count": 10,
   "metadata": {},
   "outputs": [],
   "source": [
    "# obtain the client email and the data from google sheet with dataframe type\n",
    "def gs_to_df(creds_file,sheet_name):\n",
    "    # Read Data from a Spreadsheet\n",
    "    gc = gspread.service_account(filename=creds_file) # gspread – to interact with Google Spreadsheets\n",
    "    # extract data from google sheet by the name of the sheet\n",
    "    sheet = gc.open(sheet_name) \n",
    "    #For the first sheet, pass the index 0 and so on.\n",
    "    sheet_instance = sheet.get_worksheet(0) \n",
    "    # get all the records of the data\n",
    "    records_data = sheet_instance.get_all_records()\n",
    "    # convert the json to dataframe\n",
    "    df = pd.DataFrame(records_data)\n",
    "    return df, sheet"
   ]
  },
  {
   "cell_type": "markdown",
   "metadata": {},
   "source": [
    "# Create a function to upload an updated data to your Google Sheets on a new sheet"
   ]
  },
  {
   "cell_type": "code",
   "execution_count": 7,
   "metadata": {},
   "outputs": [],
   "source": [
    "def upload_data_to_gs(title,sheet_page,updated_df):\n",
    "    row=updated_df.shape[0]\n",
    "    col=updated_df.shape[1]\n",
    "    # add a sheet with 20 rows and 2 columns\n",
    "    sheet.add_worksheet(rows=row,cols=col,title=title)\n",
    "    # get the instance of the second sheet\n",
    "    new_sheet = sheet.get_worksheet(sheet_page)\n",
    "    # Update values to the sheet\n",
    "    new_sheet.insert_rows(updated_df.values.tolist())\n",
    "    # add headers\n",
    "    header = list(updated_df.columns)\n",
    "    index = 1\n",
    "    new_sheet.insert_row(header, index)"
   ]
  },
  {
   "cell_type": "markdown",
   "metadata": {},
   "source": [
    "#  Extract data from a google sheet"
   ]
  },
  {
   "cell_type": "code",
   "execution_count": 11,
   "metadata": {},
   "outputs": [],
   "source": [
    "# Get client_email and share the Google Sheet with this email\n",
    "client_email=client_email('creds.json')\n",
    "# After share the google sheet with the client email then let us extract the data \n",
    "df, sheet=gs_to_df('creds.json',\"Consumer_Behavior_Data\")"
   ]
  },
  {
   "cell_type": "code",
   "execution_count": 13,
   "metadata": {},
   "outputs": [
    {
     "data": {
      "text/html": [
       "<div>\n",
       "<style scoped>\n",
       "    .dataframe tbody tr th:only-of-type {\n",
       "        vertical-align: middle;\n",
       "    }\n",
       "\n",
       "    .dataframe tbody tr th {\n",
       "        vertical-align: top;\n",
       "    }\n",
       "\n",
       "    .dataframe thead th {\n",
       "        text-align: right;\n",
       "    }\n",
       "</style>\n",
       "<table border=\"1\" class=\"dataframe\">\n",
       "  <thead>\n",
       "    <tr style=\"text-align: right;\">\n",
       "      <th></th>\n",
       "      <th>Daily Time Spent on Site</th>\n",
       "      <th>Age</th>\n",
       "      <th>Area Income</th>\n",
       "      <th>Daily Internet Usage</th>\n",
       "      <th>Ad Topic Line</th>\n",
       "      <th>City</th>\n",
       "      <th>Country</th>\n",
       "      <th>Timestamp</th>\n",
       "      <th>Year</th>\n",
       "      <th>Month</th>\n",
       "      <th>Day</th>\n",
       "      <th>Hour</th>\n",
       "      <th>Gender</th>\n",
       "      <th>Clicked on Ad</th>\n",
       "      <th>Age Range</th>\n",
       "    </tr>\n",
       "  </thead>\n",
       "  <tbody>\n",
       "    <tr>\n",
       "      <th>0</th>\n",
       "      <td>68.95</td>\n",
       "      <td>35</td>\n",
       "      <td>$61,833.90</td>\n",
       "      <td>256.09</td>\n",
       "      <td>Cloned 5thgeneration orchestration</td>\n",
       "      <td>Wrightburgh</td>\n",
       "      <td>Tunisia</td>\n",
       "      <td>2016-03-27 0:53:11</td>\n",
       "      <td>2016</td>\n",
       "      <td>3</td>\n",
       "      <td>27</td>\n",
       "      <td>0</td>\n",
       "      <td>Female</td>\n",
       "      <td>Clicked</td>\n",
       "      <td>26-35</td>\n",
       "    </tr>\n",
       "    <tr>\n",
       "      <th>1</th>\n",
       "      <td>80.23</td>\n",
       "      <td>31</td>\n",
       "      <td>$68,441.85</td>\n",
       "      <td>193.77</td>\n",
       "      <td>Monitored national standardization</td>\n",
       "      <td>West Jodi</td>\n",
       "      <td>Nauru</td>\n",
       "      <td>2016-04-04 1:39:02</td>\n",
       "      <td>2016</td>\n",
       "      <td>4</td>\n",
       "      <td>4</td>\n",
       "      <td>1</td>\n",
       "      <td>Male</td>\n",
       "      <td>Clicked</td>\n",
       "      <td>26-35</td>\n",
       "    </tr>\n",
       "    <tr>\n",
       "      <th>2</th>\n",
       "      <td>69.47</td>\n",
       "      <td>26</td>\n",
       "      <td>$59,785.94</td>\n",
       "      <td>236.50</td>\n",
       "      <td>Organic bottom-line service-desk</td>\n",
       "      <td>Davidton</td>\n",
       "      <td>San Marino</td>\n",
       "      <td>2016-03-13 20:35:42</td>\n",
       "      <td>2016</td>\n",
       "      <td>3</td>\n",
       "      <td>13</td>\n",
       "      <td>20</td>\n",
       "      <td>Female</td>\n",
       "      <td>Clicked</td>\n",
       "      <td>26-35</td>\n",
       "    </tr>\n",
       "    <tr>\n",
       "      <th>3</th>\n",
       "      <td>74.15</td>\n",
       "      <td>29</td>\n",
       "      <td>$54,806.18</td>\n",
       "      <td>245.89</td>\n",
       "      <td>Triple-buffered reciprocal time-frame</td>\n",
       "      <td>West Terrifurt</td>\n",
       "      <td>Italy</td>\n",
       "      <td>2016-01-10 2:31:19</td>\n",
       "      <td>2016</td>\n",
       "      <td>1</td>\n",
       "      <td>10</td>\n",
       "      <td>2</td>\n",
       "      <td>Male</td>\n",
       "      <td>Clicked</td>\n",
       "      <td>26-35</td>\n",
       "    </tr>\n",
       "    <tr>\n",
       "      <th>4</th>\n",
       "      <td>68.37</td>\n",
       "      <td>35</td>\n",
       "      <td>$73,889.99</td>\n",
       "      <td>225.58</td>\n",
       "      <td>Robust logistical utilization</td>\n",
       "      <td>South Manuel</td>\n",
       "      <td>Iceland</td>\n",
       "      <td>2016-06-03 3:36:18</td>\n",
       "      <td>2016</td>\n",
       "      <td>6</td>\n",
       "      <td>3</td>\n",
       "      <td>3</td>\n",
       "      <td>Female</td>\n",
       "      <td>Clicked</td>\n",
       "      <td>26-35</td>\n",
       "    </tr>\n",
       "  </tbody>\n",
       "</table>\n",
       "</div>"
      ],
      "text/plain": [
       "   Daily Time Spent on Site  Age Area Income  Daily Internet Usage  \\\n",
       "0                     68.95   35  $61,833.90                256.09   \n",
       "1                     80.23   31  $68,441.85                193.77   \n",
       "2                     69.47   26  $59,785.94                236.50   \n",
       "3                     74.15   29  $54,806.18                245.89   \n",
       "4                     68.37   35  $73,889.99                225.58   \n",
       "\n",
       "                           Ad Topic Line            City     Country  \\\n",
       "0     Cloned 5thgeneration orchestration     Wrightburgh     Tunisia   \n",
       "1     Monitored national standardization       West Jodi       Nauru   \n",
       "2       Organic bottom-line service-desk        Davidton  San Marino   \n",
       "3  Triple-buffered reciprocal time-frame  West Terrifurt       Italy   \n",
       "4          Robust logistical utilization    South Manuel     Iceland   \n",
       "\n",
       "             Timestamp  Year  Month  Day  Hour  Gender Clicked on Ad Age Range  \n",
       "0   2016-03-27 0:53:11  2016      3   27     0  Female       Clicked     26-35  \n",
       "1   2016-04-04 1:39:02  2016      4    4     1    Male       Clicked     26-35  \n",
       "2  2016-03-13 20:35:42  2016      3   13    20  Female       Clicked     26-35  \n",
       "3   2016-01-10 2:31:19  2016      1   10     2    Male       Clicked     26-35  \n",
       "4   2016-06-03 3:36:18  2016      6    3     3  Female       Clicked     26-35  "
      ]
     },
     "execution_count": 13,
     "metadata": {},
     "output_type": "execute_result"
    }
   ],
   "source": [
    "df.head()"
   ]
  },
  {
   "cell_type": "markdown",
   "metadata": {},
   "source": [
    "# Let us create a new data"
   ]
  },
  {
   "cell_type": "code",
   "execution_count": 22,
   "metadata": {},
   "outputs": [
    {
     "data": {
      "text/html": [
       "<div>\n",
       "<style scoped>\n",
       "    .dataframe tbody tr th:only-of-type {\n",
       "        vertical-align: middle;\n",
       "    }\n",
       "\n",
       "    .dataframe tbody tr th {\n",
       "        vertical-align: top;\n",
       "    }\n",
       "\n",
       "    .dataframe thead th {\n",
       "        text-align: right;\n",
       "    }\n",
       "</style>\n",
       "<table border=\"1\" class=\"dataframe\">\n",
       "  <thead>\n",
       "    <tr style=\"text-align: right;\">\n",
       "      <th></th>\n",
       "      <th>Clicked on Ad</th>\n",
       "      <th>Gender</th>\n",
       "      <th>Daily Internet Usage</th>\n",
       "    </tr>\n",
       "  </thead>\n",
       "  <tbody>\n",
       "    <tr>\n",
       "      <th>0</th>\n",
       "      <td>Clicked</td>\n",
       "      <td>Female</td>\n",
       "      <td>214.623440</td>\n",
       "    </tr>\n",
       "    <tr>\n",
       "      <th>1</th>\n",
       "      <td>Clicked</td>\n",
       "      <td>Male</td>\n",
       "      <td>214.404040</td>\n",
       "    </tr>\n",
       "    <tr>\n",
       "      <th>2</th>\n",
       "      <td>Not Clicked</td>\n",
       "      <td>Female</td>\n",
       "      <td>145.539182</td>\n",
       "    </tr>\n",
       "    <tr>\n",
       "      <th>3</th>\n",
       "      <td>Not Clicked</td>\n",
       "      <td>Male</td>\n",
       "      <td>145.425065</td>\n",
       "    </tr>\n",
       "  </tbody>\n",
       "</table>\n",
       "</div>"
      ],
      "text/plain": [
       "  Clicked on Ad  Gender  Daily Internet Usage\n",
       "0       Clicked  Female            214.623440\n",
       "1       Clicked    Male            214.404040\n",
       "2   Not Clicked  Female            145.539182\n",
       "3   Not Clicked    Male            145.425065"
      ]
     },
     "execution_count": 22,
     "metadata": {},
     "output_type": "execute_result"
    }
   ],
   "source": [
    "new_data=df.groupby(['Clicked on Ad','Gender'])[\"Daily Internet Usage\"].mean().reset_index()\n",
    "new_data"
   ]
  },
  {
   "cell_type": "markdown",
   "metadata": {},
   "source": [
    "# Now let us upload this new_data to the GS with on a new sheet "
   ]
  },
  {
   "cell_type": "code",
   "execution_count": 23,
   "metadata": {},
   "outputs": [],
   "source": [
    "upload_data_to_gs('target_gender_DailyInternetUsage',4,new_data)"
   ]
  }
 ],
 "metadata": {
  "kernelspec": {
   "display_name": "Python 3",
   "language": "python",
   "name": "python3"
  },
  "language_info": {
   "codemirror_mode": {
    "name": "ipython",
    "version": 3
   },
   "file_extension": ".py",
   "mimetype": "text/x-python",
   "name": "python",
   "nbconvert_exporter": "python",
   "pygments_lexer": "ipython3",
   "version": "3.7.6"
  },
  "toc": {
   "base_numbering": 1,
   "nav_menu": {},
   "number_sections": true,
   "sideBar": true,
   "skip_h1_title": false,
   "title_cell": "Table of Contents",
   "title_sidebar": "Contents",
   "toc_cell": false,
   "toc_position": {},
   "toc_section_display": true,
   "toc_window_display": false
  }
 },
 "nbformat": 4,
 "nbformat_minor": 4
}
